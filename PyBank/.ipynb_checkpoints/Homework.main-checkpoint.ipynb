{
 "cells": [
  {
   "cell_type": "code",
   "execution_count": 62,
   "metadata": {},
   "outputs": [],
   "source": [
    "import os\n",
    "import csv"
   ]
  },
  {
   "cell_type": "code",
   "execution_count": 63,
   "metadata": {},
   "outputs": [],
   "source": [
    "budget_data = os.path.join('budget_data.csv')\n",
    "\n",
    "#total number of months included in the dataset\n",
    "total_months = 0\n",
    "#net total amount of \"Profit/Losses\" over the entire period\n",
    "total_amount = 0\n",
    "#change by month\n",
    "change_by_month = []\n",
    "#average of the changes in \"Profit/Losses\" over the entire period\n",
    "average_change = 0\n",
    "#greatest increase in profits (date and amount) over the entire period\n",
    "greatest_increase = 0 \n",
    "#greatest decrease in profits (date and amount) over the entire period\n",
    "greatest_decrease = 0 "
   ]
  },
  {
   "cell_type": "code",
   "execution_count": 64,
   "metadata": {},
   "outputs": [
    {
     "name": "stdout",
     "output_type": "stream",
     "text": [
      "Financial Analysis\n",
      "----------------------------------------\n",
      "Total Months: 86\n",
      "Average Change $: -2315.1176470588234\n",
      "Greatest Increase $: 1926159.0\n",
      "Greatest Decrease $: -2196167.0\n",
      "Total: $ 38382578.0\n"
     ]
    }
   ],
   "source": [
    "with open(budget_data, newline=\"\") as csvfile:\n",
    "    csvreader = csv.reader(csvfile, delimiter=\",\")\n",
    "\n",
    "    print(\"Financial Analysis\")\n",
    "    #Skipping the header \n",
    "    header = next(csvreader)\n",
    "    #To see what I skipped . Confirm last command \n",
    "    #print(\"Skipped header:\", header)\n",
    "\n",
    "    #step 1 - Make a list of changes  \n",
    "\n",
    "    csvreader = list(csvreader)\n",
    "    \n",
    " \n",
    "    for index, row in enumerate(csvreader): \n",
    "       # print(index, row)\n",
    "        #print (row[1]) #to view first column 0, to view second it's 1\n",
    "        #add to total_month \n",
    "        total_months += 1\n",
    "        total_amount += float(row[1])\n",
    "        total_change = total_amount / total_months\n",
    "        \n",
    "        # AVERAGE CHANGE CALCULATION\n",
    "        # we need to keep track of the changes between two rows\n",
    "        # skip first row for average change\n",
    "        if (index != 0):\n",
    "            each_month_change = float(row[1]) - int(csvreader[index - 1][1])\n",
    "            change_by_month.append(each_month_change)\n",
    "      \n",
    "        #Remember to tell it that if it's comparing the 2nd change from the top \n",
    "        #step 2 - sum the list and divide by the len()\n",
    "        #greatest increase in profits (date and amount) over the entire period\n",
    "        #step 1 - loop through the list \n",
    "        #step 2 - find the highest value using the if/else (built in check) sum and length**\n",
    "    average_change = sum(change_by_month) / len(change_by_month)\n",
    "    greatest_increase = (max(change_by_month))\n",
    "    greatest_decrease = min(change_by_month)\n",
    "   \n",
    "\n",
    "    print(\"----------------------------------------\")\n",
    "    print(\"Total Months:\" , total_months)\n",
    "    #print(\"Total Change:\", total_change)\n",
    "    print(\"Average Change $:\", average_change)\n",
    "    print(\"Greatest Increase $:\", greatest_increase)\n",
    "    print(\"Greatest Decrease $:\", greatest_decrease)\n",
    "    #net total amount of \"Profit/Losses\" over the entire period\n",
    "    print(\"Total: $\" , total_amount) \n",
    "\n",
    "    "
   ]
  },
  {
   "cell_type": "code",
   "execution_count": 65,
   "metadata": {},
   "outputs": [],
   "source": [
    "output =(f\"\\nFinancial Analysis \\n\"\n",
    "        f\"------------------------- \\n\"\n",
    "        f\"Total Months: {total_months} \\n\"\n",
    "        f\"Average Change: ${average_change}  \\n\"\n",
    "        f\"Greatest Increase in Profits: ${greatest_increase}  \\n\"\n",
    "        f\"Greatest Decrease in Profits: ${greatest_decrease}  \")\n"
   ]
  },
  {
   "cell_type": "code",
   "execution_count": 66,
   "metadata": {},
   "outputs": [],
   "source": [
    "with open(os.path.join('financial_analysis.txt'), \"w\") as txtfile:\n",
    "    txtfile.write(output)"
   ]
  },
  {
   "cell_type": "code",
   "execution_count": 67,
   "metadata": {},
   "outputs": [],
   "source": [
    "#Source: Helped by Ryan TA , Shaymus McTeague and Kat Anggasastra, YouTube Python Tutorial for Beginners and Mark Steadman - Tutor\n",
    "\n"
   ]
  }
 ],
 "metadata": {
  "kernelspec": {
   "display_name": "Python 3",
   "language": "python",
   "name": "python3"
  },
  "language_info": {
   "codemirror_mode": {
    "name": "ipython",
    "version": 3
   },
   "file_extension": ".py",
   "mimetype": "text/x-python",
   "name": "python",
   "nbconvert_exporter": "python",
   "pygments_lexer": "ipython3",
   "version": "3.7.4"
  }
 },
 "nbformat": 4,
 "nbformat_minor": 2
}
