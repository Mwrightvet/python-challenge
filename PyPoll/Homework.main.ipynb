{
 "cells": [
  {
   "cell_type": "code",
   "execution_count": null,
   "metadata": {},
   "outputs": [],
   "source": [
    "import os\n",
    "import csv"
   ]
  },
  {
   "cell_type": "code",
   "execution_count": null,
   "metadata": {},
   "outputs": [],
   "source": [
    "budget_data = os.path.join('budget_data.csv')\n",
    "\n",
    "#total number of months included in the dataset\n",
    "total_months = 0\n",
    "#amount by month \n",
    "amount = 0 \n",
    "#net total amount of \"Profit/Losses\" over the entire period\n",
    "total_amount = 0\n",
    "#average change by month \n",
    "change_Average_monthly = 0 \n",
    "#change by month\n",
    "change_by_month = 0\n",
    "#average of the changes in \"Profit/Losses\" over the entire period\n",
    "average_change = 0\n",
    "#greatest increase in profits (date and amount) over the entire period\n",
    "greatest_increase = 0 \n",
    "#greatest decrease in profits (date and amount) over the entire period\n",
    "greatest_decrease = 0 \n",
    "\n"
   ]
  },
  {
   "cell_type": "code",
   "execution_count": null,
   "metadata": {},
   "outputs": [],
   "source": [
    "with open(budget_data, newline=\"\") as csvfile:\n",
    "    csvreader = csv.reader(csvfile, delimiter=\",\")\n",
    "\n",
    "    print(\"Financial Analysis\")\n",
    "    #Skipping the header \n",
    "    header = next(csvreader)\n",
    "    #To see what I skipped . Confirm last command \n",
    "    print(\"Skipped header:\", header)\n",
    "    \n",
    "    #remember that it will run until stopped so tell it that when there is nothing there to stop.\n",
    "    #add if csv reader row is empty \n",
    "    # stop = open (\"budget_data.csv\")\n",
    "    # for row in csv.reader(stop): \n",
    "    # if not row: \n",
    "    #     empty_rows += 1 \n",
    "    #     continue\n",
    "    # print row\n",
    "    #iterate   \n",
    "    for row in csvreader:\n",
    "        #print (row[1]) #to view first column 0, to view second it's 1\n",
    "        #add to total_month \n",
    "        total_months += 1\n",
    "        total_amount += float(row[1])\n",
    "        each_month_change = float(row[1]) - total_amount\n",
    "    print(\"Financial Analysis\")\n",
    "    print(\"----------------------------------------\")\n",
    "    print(\"Total Months:\" , total_months)\n",
    "    print(\"Total Change:\", average_change)\n",
    "#net total amount of \"Profit/Losses\" over the entire period\n",
    "    print(\"Total: $\" , total_amount) \n"
   ]
  },
  {
   "cell_type": "code",
   "execution_count": null,
   "metadata": {},
   "outputs": [],
   "source": [
    "\n",
    "#average of the changes in \"Profit/Losses\" over the entire period\n",
    "\n",
    "#step 1 - loop through and make a list of changes, \n",
    "#Remember to tell it that if it's comparing the 2nd change from the top \n",
    "#step 2 - sum the list and divide by the len()\n",
    "\n",
    "   # for row in csvreader: \n",
    "       # if amount != 0:\n",
    "        #change_by_month = int(row[1]) - amount \n",
    "    #    change_Average_monthly += int(row[1]) - amount \n",
    "\n"
   ]
  },
  {
   "cell_type": "code",
   "execution_count": null,
   "metadata": {},
   "outputs": [],
   "source": [
    "#greatest increase in profits (date and amount) over the entire period\n",
    "#step 1 - loop through the list \n",
    "#step 2 - find the highest value using the if/else (built in check) sum and length**\n",
    "        #if change_by_month < greatest_decrease:\n",
    "         #   greatest_decrease_is = row[0]\n",
    "          #  greatest_decrease = change_by_month\n",
    "    #amount = int(row[1])\n"
   ]
  }
 ],
 "metadata": {
  "kernelspec": {
   "display_name": "Python 3",
   "language": "python",
   "name": "python3"
  },
  "language_info": {
   "codemirror_mode": {
    "name": "ipython",
    "version": 3
   },
   "file_extension": ".py",
   "mimetype": "text/x-python",
   "name": "python",
   "nbconvert_exporter": "python",
   "pygments_lexer": "ipython3",
   "version": "3.7.4"
  }
 },
 "nbformat": 4,
 "nbformat_minor": 2
}
